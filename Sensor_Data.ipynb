{
 "cells": [
  {
   "cell_type": "code",
   "execution_count": 16,
   "id": "5057b12e",
   "metadata": {},
   "outputs": [],
   "source": [
    "#import utils.git"
   ]
  },
  {
   "cell_type": "code",
   "execution_count": 19,
   "id": "cf95b91f-fed5-4caa-8da8-c987315dbf43",
   "metadata": {},
   "outputs": [],
   "source": [
    "from git import Repo\n",
    "\n",
    "def git_push(commit_message):\n",
    "    try:\n",
    "        repo = Repo('/Users/alexisalva/USM-2022-2/cripto/proyecto-tel252')\n",
    "        repo.git.add('--all')\n",
    "        repo.index.commit(commit_message)\n",
    "        origin = repo.remote(name='origin')\n",
    "        origin.push()\n",
    "    except:\n",
    "        print('There was a problem doing push')    \n",
    "\n",
    "def git_pull():\n",
    "    try:\n",
    "        repo = Repo('.\\proyecto-tel252.git')\n",
    "        origin = repo.remote(name='origin')\n",
    "        origin.pull()\n",
    "    except:\n",
    "        print(\"Error\")\n",
    "        "
   ]
  },
  {
   "cell_type": "code",
   "execution_count": 37,
   "id": "8aa8c980-bb8a-47a0-bca4-aa5217feba32",
   "metadata": {},
   "outputs": [
    {
     "name": "stdout",
     "output_type": "stream",
     "text": [
      "There was a problem doing push\n"
     ]
    }
   ],
   "source": [
    "git_push(\"-add: first commit\")"
   ]
  },
  {
   "cell_type": "code",
   "execution_count": 36,
   "id": "e401cefa",
   "metadata": {},
   "outputs": [
    {
     "name": "stdout",
     "output_type": "stream",
     "text": [
      "Error\n"
     ]
    }
   ],
   "source": [
    "git_pull()"
   ]
  },
  {
   "cell_type": "code",
   "execution_count": 31,
   "id": "54e96284-f848-4406-9a4c-3c4f53632780",
   "metadata": {},
   "outputs": [],
   "source": [
    "repo = Repo('/Users/alexisalva/USM-2022-2/cripto/proyecto-tel252')"
   ]
  },
  {
   "cell_type": "code",
   "execution_count": 32,
   "id": "0caaf8e9-0648-49e2-8572-e5e8fc6c3550",
   "metadata": {},
   "outputs": [
    {
     "data": {
      "text/plain": [
       "''"
      ]
     },
     "execution_count": 32,
     "metadata": {},
     "output_type": "execute_result"
    }
   ],
   "source": [
    "repo.git.add('--all')"
   ]
  },
  {
   "cell_type": "code",
   "execution_count": 33,
   "id": "19d0da67-eafa-4ab5-b02b-b980e34b9ecf",
   "metadata": {},
   "outputs": [],
   "source": [
    "repo = Repo('/Users/alexisalva/USM-2022-2/cripto/proyecto-tel252')"
   ]
  },
  {
   "cell_type": "code",
   "execution_count": 34,
   "id": "29c27ebc-9619-4ea5-9176-80ac41ae16a5",
   "metadata": {},
   "outputs": [
    {
     "ename": "ValueError",
     "evalue": "Remote named 'main' didn't exist",
     "output_type": "error",
     "traceback": [
      "\u001b[0;31m---------------------------------------------------------------------------\u001b[0m",
      "\u001b[0;31mValueError\u001b[0m                                Traceback (most recent call last)",
      "Input \u001b[0;32mIn [34]\u001b[0m, in \u001b[0;36m<cell line: 1>\u001b[0;34m()\u001b[0m\n\u001b[0;32m----> 1\u001b[0m origin \u001b[38;5;241m=\u001b[39m \u001b[43mrepo\u001b[49m\u001b[38;5;241;43m.\u001b[39;49m\u001b[43mremote\u001b[49m\u001b[43m(\u001b[49m\u001b[43mname\u001b[49m\u001b[38;5;241;43m=\u001b[39;49m\u001b[38;5;124;43m'\u001b[39;49m\u001b[38;5;124;43mmain\u001b[39;49m\u001b[38;5;124;43m'\u001b[39;49m\u001b[43m)\u001b[49m\n",
      "File \u001b[0;32m~/opt/dm-env/lib/python3.9/site-packages/git/repo/base.py:398\u001b[0m, in \u001b[0;36mRepo.remote\u001b[0;34m(self, name)\u001b[0m\n\u001b[1;32m    396\u001b[0m r \u001b[38;5;241m=\u001b[39m Remote(\u001b[38;5;28mself\u001b[39m, name)\n\u001b[1;32m    397\u001b[0m \u001b[38;5;28;01mif\u001b[39;00m \u001b[38;5;129;01mnot\u001b[39;00m r\u001b[38;5;241m.\u001b[39mexists():\n\u001b[0;32m--> 398\u001b[0m     \u001b[38;5;28;01mraise\u001b[39;00m \u001b[38;5;167;01mValueError\u001b[39;00m(\u001b[38;5;124m\"\u001b[39m\u001b[38;5;124mRemote named \u001b[39m\u001b[38;5;124m'\u001b[39m\u001b[38;5;132;01m%s\u001b[39;00m\u001b[38;5;124m'\u001b[39m\u001b[38;5;124m didn\u001b[39m\u001b[38;5;124m'\u001b[39m\u001b[38;5;124mt exist\u001b[39m\u001b[38;5;124m\"\u001b[39m \u001b[38;5;241m%\u001b[39m name)\n\u001b[1;32m    399\u001b[0m \u001b[38;5;28;01mreturn\u001b[39;00m r\n",
      "\u001b[0;31mValueError\u001b[0m: Remote named 'main' didn't exist"
     ]
    }
   ],
   "source": [
    "origin = repo.remote(name='main')"
   ]
  },
  {
   "cell_type": "code",
   "execution_count": null,
   "id": "f23be038-e3d2-4637-90f1-d81d27e74517",
   "metadata": {},
   "outputs": [],
   "source": [
    "origin.pull()"
   ]
  },
  {
   "cell_type": "code",
   "execution_count": 3,
   "id": "5366a1e6",
   "metadata": {},
   "outputs": [],
   "source": [
    "from Crypto import Random\n",
    "from Crypto.Cipher import AES\n",
    "import os\n",
    "import os.path\n",
    "from os import listdir\n",
    "from Crypto.Protocol.KDF import PBKDF2 \n",
    "import string, secrets as prng\n",
    "from time import sleep\n",
    "from datetime import date\n",
    "\n",
    "class Encryptor:\n",
    "    def __init__(self, key):\n",
    "        self.key = key\n",
    "\n",
    "    def pad(self, s):\n",
    "        return s + b\"\\0\" * (AES.block_size - len(s) % AES.block_size)\n",
    "\n",
    "    def encrypt(self, message, key, key_size=256):\n",
    "        message = self.pad(message)\n",
    "        iv = Random.new().read(AES.block_size)\n",
    "        cipher = AES.new(key, AES.MODE_CBC, iv)\n",
    "        return iv + cipher.encrypt(message)\n",
    "\n",
    "    def encrypt_file(self, file_name):\n",
    "        with open(file_name, 'rb') as fo:\n",
    "            plaintext = fo.read()\n",
    "        enc = self.encrypt(plaintext, self.key)\n",
    "        with open(r\"C:\\Users\\pbele\\Desktop\\tel252\\Proyecto\\Proyecto-tel252\\temperatures.csv\"+ \"_encripted\"+ \".enc\", 'wb') as fo:\n",
    "            fo.write(enc)\n"
   ]
  },
  {
   "cell_type": "code",
   "execution_count": 4,
   "id": "a99630fd",
   "metadata": {},
   "outputs": [],
   "source": [
    "password = str(date.today())\n",
    "salt = prng.token_bytes(32) \n",
    "key = PBKDF2(password, salt, dkLen = 16) \n",
    "with open(r\"C:\\Users\\pbele\\Desktop\\tel252\\Proyecto\\Proyecto-tel252\\s\"+'.enc', 'wb') as fo:\n",
    "    fo.write(salt)\n",
    "    \n"
   ]
  },
  {
   "cell_type": "code",
   "execution_count": 5,
   "id": "8c921a6b",
   "metadata": {},
   "outputs": [],
   "source": [
    "\n",
    "#creamos el objeto para encriptar\n",
    "enc = Encryptor(key)\n",
    "#encriptamos el archivo que mandaremos, no se si habra que encriptar el archivo entero o encriptar y enviar linea por linea\n",
    "enc.encrypt_file(r\"C:\\Users\\pbele\\Desktop\\tel252\\Proyecto\\temperatures.csv\")   #usar algunos de los CSV que estan en discord\n"
   ]
  },
  {
   "cell_type": "code",
   "execution_count": 6,
   "id": "38f600a4",
   "metadata": {},
   "outputs": [],
   "source": [
    "git_push(password)"
   ]
  },
  {
   "cell_type": "code",
   "execution_count": null,
   "id": "66468cea",
   "metadata": {},
   "outputs": [],
   "source": []
  }
 ],
 "metadata": {
  "kernelspec": {
   "display_name": "dm-env",
   "language": "python",
   "name": "dm-env"
  },
  "language_info": {
   "codemirror_mode": {
    "name": "ipython",
    "version": 3
   },
   "file_extension": ".py",
   "mimetype": "text/x-python",
   "name": "python",
   "nbconvert_exporter": "python",
   "pygments_lexer": "ipython3",
   "version": "3.9.6"
  }
 },
 "nbformat": 4,
 "nbformat_minor": 5
}
